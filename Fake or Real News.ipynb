{
 "cells": [
  {
   "cell_type": "markdown",
   "id": "418d1cac",
   "metadata": {},
   "source": [
    "# Fake or Real News - NLP with Phyton"
   ]
  },
  {
   "cell_type": "markdown",
   "id": "84b7bd3e",
   "metadata": {},
   "source": [
    "**Import libraries**"
   ]
  },
  {
   "cell_type": "code",
   "execution_count": 1,
   "id": "d61bc8f3",
   "metadata": {},
   "outputs": [],
   "source": [
    "#Exploratory Data Libraries\n",
    "import numpy as np\n",
    "import pandas as pd\n",
    "import seaborn as sns\n",
    "import matplotlib.pyplot as plt\n",
    "%matplotlib inline\n",
    "from matplotlib.colors import ListedColormap\n",
    "\n",
    "#ML libraries\n",
    "from sklearn.feature_extraction.text import CountVectorizer\n",
    "from sklearn.model_selection import train_test_split\n",
    "from sklearn.naive_bayes import MultinomialNB\n",
    "from sklearn.feature_extraction.text import  TfidfTransformer\n",
    "from sklearn.pipeline import Pipeline\n",
    "from sklearn.linear_model import SGDClassifier\n",
    "from sklearn.model_selection import GridSearchCV\n",
    "from sklearn.metrics import accuracy_score\n",
    "\n",
    "#Evaluation Libraries\n",
    "from sklearn.metrics import confusion_matrix,classification_report,accuracy_score\n",
    "\n",
    "#NLTK\n",
    "import nltk\n",
    "#nltk.download_shell()\n",
    "from nltk.corpus import stopwords\n",
    "from nltk.stem.snowball import SnowballStemmer"
   ]
  },
  {
   "cell_type": "markdown",
   "id": "1a8f197d",
   "metadata": {},
   "source": [
    "**Import Datasets**"
   ]
  },
  {
   "cell_type": "code",
   "execution_count": 2,
   "id": "00660790",
   "metadata": {},
   "outputs": [],
   "source": [
    "fake=pd.read_csv('fake.csv')"
   ]
  },
  {
   "cell_type": "code",
   "execution_count": 3,
   "id": "97d2c6d6",
   "metadata": {},
   "outputs": [
    {
     "data": {
      "text/html": [
       "<div>\n",
       "<style scoped>\n",
       "    .dataframe tbody tr th:only-of-type {\n",
       "        vertical-align: middle;\n",
       "    }\n",
       "\n",
       "    .dataframe tbody tr th {\n",
       "        vertical-align: top;\n",
       "    }\n",
       "\n",
       "    .dataframe thead th {\n",
       "        text-align: right;\n",
       "    }\n",
       "</style>\n",
       "<table border=\"1\" class=\"dataframe\">\n",
       "  <thead>\n",
       "    <tr style=\"text-align: right;\">\n",
       "      <th></th>\n",
       "      <th>title</th>\n",
       "      <th>text</th>\n",
       "      <th>subject</th>\n",
       "      <th>date</th>\n",
       "    </tr>\n",
       "  </thead>\n",
       "  <tbody>\n",
       "    <tr>\n",
       "      <th>0</th>\n",
       "      <td>Donald Trump Sends Out Embarrassing New Year’...</td>\n",
       "      <td>Donald Trump just couldn t wish all Americans ...</td>\n",
       "      <td>News</td>\n",
       "      <td>December 31, 2017</td>\n",
       "    </tr>\n",
       "    <tr>\n",
       "      <th>1</th>\n",
       "      <td>Drunk Bragging Trump Staffer Started Russian ...</td>\n",
       "      <td>House Intelligence Committee Chairman Devin Nu...</td>\n",
       "      <td>News</td>\n",
       "      <td>December 31, 2017</td>\n",
       "    </tr>\n",
       "    <tr>\n",
       "      <th>2</th>\n",
       "      <td>Sheriff David Clarke Becomes An Internet Joke...</td>\n",
       "      <td>On Friday, it was revealed that former Milwauk...</td>\n",
       "      <td>News</td>\n",
       "      <td>December 30, 2017</td>\n",
       "    </tr>\n",
       "    <tr>\n",
       "      <th>3</th>\n",
       "      <td>Trump Is So Obsessed He Even Has Obama’s Name...</td>\n",
       "      <td>On Christmas day, Donald Trump announced that ...</td>\n",
       "      <td>News</td>\n",
       "      <td>December 29, 2017</td>\n",
       "    </tr>\n",
       "    <tr>\n",
       "      <th>4</th>\n",
       "      <td>Pope Francis Just Called Out Donald Trump Dur...</td>\n",
       "      <td>Pope Francis used his annual Christmas Day mes...</td>\n",
       "      <td>News</td>\n",
       "      <td>December 25, 2017</td>\n",
       "    </tr>\n",
       "  </tbody>\n",
       "</table>\n",
       "</div>"
      ],
      "text/plain": [
       "                                               title  \\\n",
       "0   Donald Trump Sends Out Embarrassing New Year’...   \n",
       "1   Drunk Bragging Trump Staffer Started Russian ...   \n",
       "2   Sheriff David Clarke Becomes An Internet Joke...   \n",
       "3   Trump Is So Obsessed He Even Has Obama’s Name...   \n",
       "4   Pope Francis Just Called Out Donald Trump Dur...   \n",
       "\n",
       "                                                text subject  \\\n",
       "0  Donald Trump just couldn t wish all Americans ...    News   \n",
       "1  House Intelligence Committee Chairman Devin Nu...    News   \n",
       "2  On Friday, it was revealed that former Milwauk...    News   \n",
       "3  On Christmas day, Donald Trump announced that ...    News   \n",
       "4  Pope Francis used his annual Christmas Day mes...    News   \n",
       "\n",
       "                date  \n",
       "0  December 31, 2017  \n",
       "1  December 31, 2017  \n",
       "2  December 30, 2017  \n",
       "3  December 29, 2017  \n",
       "4  December 25, 2017  "
      ]
     },
     "execution_count": 3,
     "metadata": {},
     "output_type": "execute_result"
    }
   ],
   "source": [
    "fake.head()"
   ]
  },
  {
   "cell_type": "code",
   "execution_count": 4,
   "id": "37d43f29",
   "metadata": {},
   "outputs": [
    {
     "name": "stdout",
     "output_type": "stream",
     "text": [
      "<class 'pandas.core.frame.DataFrame'>\n",
      "RangeIndex: 23481 entries, 0 to 23480\n",
      "Data columns (total 4 columns):\n",
      " #   Column   Non-Null Count  Dtype \n",
      "---  ------   --------------  ----- \n",
      " 0   title    23481 non-null  object\n",
      " 1   text     23481 non-null  object\n",
      " 2   subject  23481 non-null  object\n",
      " 3   date     23481 non-null  object\n",
      "dtypes: object(4)\n",
      "memory usage: 733.9+ KB\n"
     ]
    }
   ],
   "source": [
    "fake.info()"
   ]
  },
  {
   "cell_type": "code",
   "execution_count": 5,
   "id": "e0a4f5aa",
   "metadata": {},
   "outputs": [],
   "source": [
    "true=pd.read_csv('True.csv')"
   ]
  },
  {
   "cell_type": "code",
   "execution_count": 6,
   "id": "e5a79714",
   "metadata": {},
   "outputs": [
    {
     "name": "stdout",
     "output_type": "stream",
     "text": [
      "<class 'pandas.core.frame.DataFrame'>\n",
      "RangeIndex: 21417 entries, 0 to 21416\n",
      "Data columns (total 4 columns):\n",
      " #   Column   Non-Null Count  Dtype \n",
      "---  ------   --------------  ----- \n",
      " 0   title    21417 non-null  object\n",
      " 1   text     21417 non-null  object\n",
      " 2   subject  21417 non-null  object\n",
      " 3   date     21417 non-null  object\n",
      "dtypes: object(4)\n",
      "memory usage: 669.4+ KB\n"
     ]
    }
   ],
   "source": [
    "true.info()"
   ]
  },
  {
   "cell_type": "code",
   "execution_count": 7,
   "id": "3d8eabf3",
   "metadata": {},
   "outputs": [],
   "source": [
    "#Add new label column for each df\n",
    "fake['label']='Fake'\n",
    "true['label']='True'"
   ]
  },
  {
   "cell_type": "code",
   "execution_count": 8,
   "id": "292fdd49",
   "metadata": {},
   "outputs": [],
   "source": [
    "#Combine the 2 datasets\n",
    "df=pd.concat([true,fake],ignore_index=True)\n"
   ]
  },
  {
   "cell_type": "code",
   "execution_count": 9,
   "id": "1fbeaee0",
   "metadata": {},
   "outputs": [
    {
     "data": {
      "text/html": [
       "<div>\n",
       "<style scoped>\n",
       "    .dataframe tbody tr th:only-of-type {\n",
       "        vertical-align: middle;\n",
       "    }\n",
       "\n",
       "    .dataframe tbody tr th {\n",
       "        vertical-align: top;\n",
       "    }\n",
       "\n",
       "    .dataframe thead th {\n",
       "        text-align: right;\n",
       "    }\n",
       "</style>\n",
       "<table border=\"1\" class=\"dataframe\">\n",
       "  <thead>\n",
       "    <tr style=\"text-align: right;\">\n",
       "      <th></th>\n",
       "      <th>title</th>\n",
       "      <th>text</th>\n",
       "      <th>subject</th>\n",
       "      <th>date</th>\n",
       "      <th>label</th>\n",
       "    </tr>\n",
       "  </thead>\n",
       "  <tbody>\n",
       "    <tr>\n",
       "      <th>0</th>\n",
       "      <td>As U.S. budget fight looms, Republicans flip t...</td>\n",
       "      <td>WASHINGTON (Reuters) - The head of a conservat...</td>\n",
       "      <td>politicsNews</td>\n",
       "      <td>December 31, 2017</td>\n",
       "      <td>True</td>\n",
       "    </tr>\n",
       "    <tr>\n",
       "      <th>1</th>\n",
       "      <td>U.S. military to accept transgender recruits o...</td>\n",
       "      <td>WASHINGTON (Reuters) - Transgender people will...</td>\n",
       "      <td>politicsNews</td>\n",
       "      <td>December 29, 2017</td>\n",
       "      <td>True</td>\n",
       "    </tr>\n",
       "    <tr>\n",
       "      <th>2</th>\n",
       "      <td>Senior U.S. Republican senator: 'Let Mr. Muell...</td>\n",
       "      <td>WASHINGTON (Reuters) - The special counsel inv...</td>\n",
       "      <td>politicsNews</td>\n",
       "      <td>December 31, 2017</td>\n",
       "      <td>True</td>\n",
       "    </tr>\n",
       "    <tr>\n",
       "      <th>3</th>\n",
       "      <td>FBI Russia probe helped by Australian diplomat...</td>\n",
       "      <td>WASHINGTON (Reuters) - Trump campaign adviser ...</td>\n",
       "      <td>politicsNews</td>\n",
       "      <td>December 30, 2017</td>\n",
       "      <td>True</td>\n",
       "    </tr>\n",
       "    <tr>\n",
       "      <th>4</th>\n",
       "      <td>Trump wants Postal Service to charge 'much mor...</td>\n",
       "      <td>SEATTLE/WASHINGTON (Reuters) - President Donal...</td>\n",
       "      <td>politicsNews</td>\n",
       "      <td>December 29, 2017</td>\n",
       "      <td>True</td>\n",
       "    </tr>\n",
       "    <tr>\n",
       "      <th>...</th>\n",
       "      <td>...</td>\n",
       "      <td>...</td>\n",
       "      <td>...</td>\n",
       "      <td>...</td>\n",
       "      <td>...</td>\n",
       "    </tr>\n",
       "    <tr>\n",
       "      <th>44893</th>\n",
       "      <td>McPain: John McCain Furious That Iran Treated ...</td>\n",
       "      <td>21st Century Wire says As 21WIRE reported earl...</td>\n",
       "      <td>Middle-east</td>\n",
       "      <td>January 16, 2016</td>\n",
       "      <td>Fake</td>\n",
       "    </tr>\n",
       "    <tr>\n",
       "      <th>44894</th>\n",
       "      <td>JUSTICE? Yahoo Settles E-mail Privacy Class-ac...</td>\n",
       "      <td>21st Century Wire says It s a familiar theme. ...</td>\n",
       "      <td>Middle-east</td>\n",
       "      <td>January 16, 2016</td>\n",
       "      <td>Fake</td>\n",
       "    </tr>\n",
       "    <tr>\n",
       "      <th>44895</th>\n",
       "      <td>Sunnistan: US and Allied ‘Safe Zone’ Plan to T...</td>\n",
       "      <td>Patrick Henningsen  21st Century WireRemember ...</td>\n",
       "      <td>Middle-east</td>\n",
       "      <td>January 15, 2016</td>\n",
       "      <td>Fake</td>\n",
       "    </tr>\n",
       "    <tr>\n",
       "      <th>44896</th>\n",
       "      <td>How to Blow $700 Million: Al Jazeera America F...</td>\n",
       "      <td>21st Century Wire says Al Jazeera America will...</td>\n",
       "      <td>Middle-east</td>\n",
       "      <td>January 14, 2016</td>\n",
       "      <td>Fake</td>\n",
       "    </tr>\n",
       "    <tr>\n",
       "      <th>44897</th>\n",
       "      <td>10 U.S. Navy Sailors Held by Iranian Military ...</td>\n",
       "      <td>21st Century Wire says As 21WIRE predicted in ...</td>\n",
       "      <td>Middle-east</td>\n",
       "      <td>January 12, 2016</td>\n",
       "      <td>Fake</td>\n",
       "    </tr>\n",
       "  </tbody>\n",
       "</table>\n",
       "<p>44898 rows × 5 columns</p>\n",
       "</div>"
      ],
      "text/plain": [
       "                                                   title  \\\n",
       "0      As U.S. budget fight looms, Republicans flip t...   \n",
       "1      U.S. military to accept transgender recruits o...   \n",
       "2      Senior U.S. Republican senator: 'Let Mr. Muell...   \n",
       "3      FBI Russia probe helped by Australian diplomat...   \n",
       "4      Trump wants Postal Service to charge 'much mor...   \n",
       "...                                                  ...   \n",
       "44893  McPain: John McCain Furious That Iran Treated ...   \n",
       "44894  JUSTICE? Yahoo Settles E-mail Privacy Class-ac...   \n",
       "44895  Sunnistan: US and Allied ‘Safe Zone’ Plan to T...   \n",
       "44896  How to Blow $700 Million: Al Jazeera America F...   \n",
       "44897  10 U.S. Navy Sailors Held by Iranian Military ...   \n",
       "\n",
       "                                                    text       subject  \\\n",
       "0      WASHINGTON (Reuters) - The head of a conservat...  politicsNews   \n",
       "1      WASHINGTON (Reuters) - Transgender people will...  politicsNews   \n",
       "2      WASHINGTON (Reuters) - The special counsel inv...  politicsNews   \n",
       "3      WASHINGTON (Reuters) - Trump campaign adviser ...  politicsNews   \n",
       "4      SEATTLE/WASHINGTON (Reuters) - President Donal...  politicsNews   \n",
       "...                                                  ...           ...   \n",
       "44893  21st Century Wire says As 21WIRE reported earl...   Middle-east   \n",
       "44894  21st Century Wire says It s a familiar theme. ...   Middle-east   \n",
       "44895  Patrick Henningsen  21st Century WireRemember ...   Middle-east   \n",
       "44896  21st Century Wire says Al Jazeera America will...   Middle-east   \n",
       "44897  21st Century Wire says As 21WIRE predicted in ...   Middle-east   \n",
       "\n",
       "                     date label  \n",
       "0      December 31, 2017   True  \n",
       "1      December 29, 2017   True  \n",
       "2      December 31, 2017   True  \n",
       "3      December 30, 2017   True  \n",
       "4      December 29, 2017   True  \n",
       "...                   ...   ...  \n",
       "44893    January 16, 2016  Fake  \n",
       "44894    January 16, 2016  Fake  \n",
       "44895    January 15, 2016  Fake  \n",
       "44896    January 14, 2016  Fake  \n",
       "44897    January 12, 2016  Fake  \n",
       "\n",
       "[44898 rows x 5 columns]"
      ]
     },
     "execution_count": 9,
     "metadata": {},
     "output_type": "execute_result"
    }
   ],
   "source": [
    "df"
   ]
  },
  {
   "cell_type": "code",
   "execution_count": 10,
   "id": "f728dc02",
   "metadata": {},
   "outputs": [
    {
     "name": "stdout",
     "output_type": "stream",
     "text": [
      "<class 'pandas.core.frame.DataFrame'>\n",
      "RangeIndex: 44898 entries, 0 to 44897\n",
      "Data columns (total 5 columns):\n",
      " #   Column   Non-Null Count  Dtype \n",
      "---  ------   --------------  ----- \n",
      " 0   title    44898 non-null  object\n",
      " 1   text     44898 non-null  object\n",
      " 2   subject  44898 non-null  object\n",
      " 3   date     44898 non-null  object\n",
      " 4   label    44898 non-null  object\n",
      "dtypes: object(5)\n",
      "memory usage: 1.7+ MB\n"
     ]
    }
   ],
   "source": [
    "df.info()"
   ]
  },
  {
   "cell_type": "code",
   "execution_count": 11,
   "id": "5947a11d",
   "metadata": {},
   "outputs": [
    {
     "data": {
      "text/html": [
       "<div>\n",
       "<style scoped>\n",
       "    .dataframe tbody tr th:only-of-type {\n",
       "        vertical-align: middle;\n",
       "    }\n",
       "\n",
       "    .dataframe tbody tr th {\n",
       "        vertical-align: top;\n",
       "    }\n",
       "\n",
       "    .dataframe thead th {\n",
       "        text-align: right;\n",
       "    }\n",
       "</style>\n",
       "<table border=\"1\" class=\"dataframe\">\n",
       "  <thead>\n",
       "    <tr style=\"text-align: right;\">\n",
       "      <th></th>\n",
       "      <th>title</th>\n",
       "      <th>text</th>\n",
       "      <th>subject</th>\n",
       "      <th>date</th>\n",
       "      <th>label</th>\n",
       "    </tr>\n",
       "  </thead>\n",
       "  <tbody>\n",
       "    <tr>\n",
       "      <th>count</th>\n",
       "      <td>44898</td>\n",
       "      <td>44898</td>\n",
       "      <td>44898</td>\n",
       "      <td>44898</td>\n",
       "      <td>44898</td>\n",
       "    </tr>\n",
       "    <tr>\n",
       "      <th>unique</th>\n",
       "      <td>38729</td>\n",
       "      <td>38646</td>\n",
       "      <td>8</td>\n",
       "      <td>2397</td>\n",
       "      <td>2</td>\n",
       "    </tr>\n",
       "    <tr>\n",
       "      <th>top</th>\n",
       "      <td>Factbox: Trump fills top jobs for his administ...</td>\n",
       "      <td></td>\n",
       "      <td>politicsNews</td>\n",
       "      <td>December 20, 2017</td>\n",
       "      <td>Fake</td>\n",
       "    </tr>\n",
       "    <tr>\n",
       "      <th>freq</th>\n",
       "      <td>14</td>\n",
       "      <td>627</td>\n",
       "      <td>11272</td>\n",
       "      <td>182</td>\n",
       "      <td>23481</td>\n",
       "    </tr>\n",
       "  </tbody>\n",
       "</table>\n",
       "</div>"
      ],
      "text/plain": [
       "                                                    title   text  \\\n",
       "count                                               44898  44898   \n",
       "unique                                              38729  38646   \n",
       "top     Factbox: Trump fills top jobs for his administ...          \n",
       "freq                                                   14    627   \n",
       "\n",
       "             subject                date  label  \n",
       "count          44898               44898  44898  \n",
       "unique             8                2397      2  \n",
       "top     politicsNews  December 20, 2017    Fake  \n",
       "freq           11272                 182  23481  "
      ]
     },
     "execution_count": 11,
     "metadata": {},
     "output_type": "execute_result"
    }
   ],
   "source": [
    "df.describe()"
   ]
  },
  {
   "cell_type": "markdown",
   "id": "839823aa",
   "metadata": {},
   "source": [
    "# EDA"
   ]
  },
  {
   "cell_type": "code",
   "execution_count": 12,
   "id": "0c3bae5c",
   "metadata": {},
   "outputs": [],
   "source": [
    "#Include a column with the length of the text\n",
    "df['text length']=df['text'].apply(len)"
   ]
  },
  {
   "cell_type": "code",
   "execution_count": 13,
   "id": "2783302d",
   "metadata": {},
   "outputs": [
    {
     "data": {
      "text/html": [
       "<div>\n",
       "<style scoped>\n",
       "    .dataframe tbody tr th:only-of-type {\n",
       "        vertical-align: middle;\n",
       "    }\n",
       "\n",
       "    .dataframe tbody tr th {\n",
       "        vertical-align: top;\n",
       "    }\n",
       "\n",
       "    .dataframe thead th {\n",
       "        text-align: right;\n",
       "    }\n",
       "</style>\n",
       "<table border=\"1\" class=\"dataframe\">\n",
       "  <thead>\n",
       "    <tr style=\"text-align: right;\">\n",
       "      <th></th>\n",
       "      <th>title</th>\n",
       "      <th>text</th>\n",
       "      <th>subject</th>\n",
       "      <th>date</th>\n",
       "      <th>label</th>\n",
       "      <th>text length</th>\n",
       "    </tr>\n",
       "  </thead>\n",
       "  <tbody>\n",
       "    <tr>\n",
       "      <th>0</th>\n",
       "      <td>As U.S. budget fight looms, Republicans flip t...</td>\n",
       "      <td>WASHINGTON (Reuters) - The head of a conservat...</td>\n",
       "      <td>politicsNews</td>\n",
       "      <td>December 31, 2017</td>\n",
       "      <td>True</td>\n",
       "      <td>4659</td>\n",
       "    </tr>\n",
       "    <tr>\n",
       "      <th>1</th>\n",
       "      <td>U.S. military to accept transgender recruits o...</td>\n",
       "      <td>WASHINGTON (Reuters) - Transgender people will...</td>\n",
       "      <td>politicsNews</td>\n",
       "      <td>December 29, 2017</td>\n",
       "      <td>True</td>\n",
       "      <td>4077</td>\n",
       "    </tr>\n",
       "    <tr>\n",
       "      <th>2</th>\n",
       "      <td>Senior U.S. Republican senator: 'Let Mr. Muell...</td>\n",
       "      <td>WASHINGTON (Reuters) - The special counsel inv...</td>\n",
       "      <td>politicsNews</td>\n",
       "      <td>December 31, 2017</td>\n",
       "      <td>True</td>\n",
       "      <td>2789</td>\n",
       "    </tr>\n",
       "    <tr>\n",
       "      <th>3</th>\n",
       "      <td>FBI Russia probe helped by Australian diplomat...</td>\n",
       "      <td>WASHINGTON (Reuters) - Trump campaign adviser ...</td>\n",
       "      <td>politicsNews</td>\n",
       "      <td>December 30, 2017</td>\n",
       "      <td>True</td>\n",
       "      <td>2461</td>\n",
       "    </tr>\n",
       "    <tr>\n",
       "      <th>4</th>\n",
       "      <td>Trump wants Postal Service to charge 'much mor...</td>\n",
       "      <td>SEATTLE/WASHINGTON (Reuters) - President Donal...</td>\n",
       "      <td>politicsNews</td>\n",
       "      <td>December 29, 2017</td>\n",
       "      <td>True</td>\n",
       "      <td>5204</td>\n",
       "    </tr>\n",
       "  </tbody>\n",
       "</table>\n",
       "</div>"
      ],
      "text/plain": [
       "                                               title  \\\n",
       "0  As U.S. budget fight looms, Republicans flip t...   \n",
       "1  U.S. military to accept transgender recruits o...   \n",
       "2  Senior U.S. Republican senator: 'Let Mr. Muell...   \n",
       "3  FBI Russia probe helped by Australian diplomat...   \n",
       "4  Trump wants Postal Service to charge 'much mor...   \n",
       "\n",
       "                                                text       subject  \\\n",
       "0  WASHINGTON (Reuters) - The head of a conservat...  politicsNews   \n",
       "1  WASHINGTON (Reuters) - Transgender people will...  politicsNews   \n",
       "2  WASHINGTON (Reuters) - The special counsel inv...  politicsNews   \n",
       "3  WASHINGTON (Reuters) - Trump campaign adviser ...  politicsNews   \n",
       "4  SEATTLE/WASHINGTON (Reuters) - President Donal...  politicsNews   \n",
       "\n",
       "                 date label  text length  \n",
       "0  December 31, 2017   True         4659  \n",
       "1  December 29, 2017   True         4077  \n",
       "2  December 31, 2017   True         2789  \n",
       "3  December 30, 2017   True         2461  \n",
       "4  December 29, 2017   True         5204  "
      ]
     },
     "execution_count": 13,
     "metadata": {},
     "output_type": "execute_result"
    }
   ],
   "source": [
    "df.head()"
   ]
  },
  {
   "cell_type": "code",
   "execution_count": 14,
   "id": "2a3e072c",
   "metadata": {},
   "outputs": [
    {
     "data": {
      "text/html": [
       "<div>\n",
       "<style scoped>\n",
       "    .dataframe tbody tr th:only-of-type {\n",
       "        vertical-align: middle;\n",
       "    }\n",
       "\n",
       "    .dataframe tbody tr th {\n",
       "        vertical-align: top;\n",
       "    }\n",
       "\n",
       "    .dataframe thead th {\n",
       "        text-align: right;\n",
       "    }\n",
       "</style>\n",
       "<table border=\"1\" class=\"dataframe\">\n",
       "  <thead>\n",
       "    <tr style=\"text-align: right;\">\n",
       "      <th></th>\n",
       "      <th>title</th>\n",
       "      <th>text</th>\n",
       "      <th>subject</th>\n",
       "      <th>date</th>\n",
       "      <th>label</th>\n",
       "      <th>text length</th>\n",
       "      <th>title length</th>\n",
       "    </tr>\n",
       "  </thead>\n",
       "  <tbody>\n",
       "    <tr>\n",
       "      <th>0</th>\n",
       "      <td>As U.S. budget fight looms, Republicans flip t...</td>\n",
       "      <td>WASHINGTON (Reuters) - The head of a conservat...</td>\n",
       "      <td>politicsNews</td>\n",
       "      <td>December 31, 2017</td>\n",
       "      <td>True</td>\n",
       "      <td>4659</td>\n",
       "      <td>64</td>\n",
       "    </tr>\n",
       "    <tr>\n",
       "      <th>1</th>\n",
       "      <td>U.S. military to accept transgender recruits o...</td>\n",
       "      <td>WASHINGTON (Reuters) - Transgender people will...</td>\n",
       "      <td>politicsNews</td>\n",
       "      <td>December 29, 2017</td>\n",
       "      <td>True</td>\n",
       "      <td>4077</td>\n",
       "      <td>64</td>\n",
       "    </tr>\n",
       "    <tr>\n",
       "      <th>2</th>\n",
       "      <td>Senior U.S. Republican senator: 'Let Mr. Muell...</td>\n",
       "      <td>WASHINGTON (Reuters) - The special counsel inv...</td>\n",
       "      <td>politicsNews</td>\n",
       "      <td>December 31, 2017</td>\n",
       "      <td>True</td>\n",
       "      <td>2789</td>\n",
       "      <td>60</td>\n",
       "    </tr>\n",
       "    <tr>\n",
       "      <th>3</th>\n",
       "      <td>FBI Russia probe helped by Australian diplomat...</td>\n",
       "      <td>WASHINGTON (Reuters) - Trump campaign adviser ...</td>\n",
       "      <td>politicsNews</td>\n",
       "      <td>December 30, 2017</td>\n",
       "      <td>True</td>\n",
       "      <td>2461</td>\n",
       "      <td>59</td>\n",
       "    </tr>\n",
       "    <tr>\n",
       "      <th>4</th>\n",
       "      <td>Trump wants Postal Service to charge 'much mor...</td>\n",
       "      <td>SEATTLE/WASHINGTON (Reuters) - President Donal...</td>\n",
       "      <td>politicsNews</td>\n",
       "      <td>December 29, 2017</td>\n",
       "      <td>True</td>\n",
       "      <td>5204</td>\n",
       "      <td>69</td>\n",
       "    </tr>\n",
       "  </tbody>\n",
       "</table>\n",
       "</div>"
      ],
      "text/plain": [
       "                                               title  \\\n",
       "0  As U.S. budget fight looms, Republicans flip t...   \n",
       "1  U.S. military to accept transgender recruits o...   \n",
       "2  Senior U.S. Republican senator: 'Let Mr. Muell...   \n",
       "3  FBI Russia probe helped by Australian diplomat...   \n",
       "4  Trump wants Postal Service to charge 'much mor...   \n",
       "\n",
       "                                                text       subject  \\\n",
       "0  WASHINGTON (Reuters) - The head of a conservat...  politicsNews   \n",
       "1  WASHINGTON (Reuters) - Transgender people will...  politicsNews   \n",
       "2  WASHINGTON (Reuters) - The special counsel inv...  politicsNews   \n",
       "3  WASHINGTON (Reuters) - Trump campaign adviser ...  politicsNews   \n",
       "4  SEATTLE/WASHINGTON (Reuters) - President Donal...  politicsNews   \n",
       "\n",
       "                 date label  text length  title length  \n",
       "0  December 31, 2017   True         4659            64  \n",
       "1  December 29, 2017   True         4077            64  \n",
       "2  December 31, 2017   True         2789            60  \n",
       "3  December 30, 2017   True         2461            59  \n",
       "4  December 29, 2017   True         5204            69  "
      ]
     },
     "execution_count": 14,
     "metadata": {},
     "output_type": "execute_result"
    }
   ],
   "source": [
    "#Include a column with the length of the title\n",
    "df['title length']=df['title'].apply(len)\n",
    "df.head()"
   ]
  },
  {
   "cell_type": "code",
   "execution_count": 15,
   "id": "b811b65b",
   "metadata": {},
   "outputs": [
    {
     "data": {
      "text/html": [
       "<div>\n",
       "<style scoped>\n",
       "    .dataframe tbody tr th:only-of-type {\n",
       "        vertical-align: middle;\n",
       "    }\n",
       "\n",
       "    .dataframe tbody tr th {\n",
       "        vertical-align: top;\n",
       "    }\n",
       "\n",
       "    .dataframe thead th {\n",
       "        text-align: right;\n",
       "    }\n",
       "</style>\n",
       "<table border=\"1\" class=\"dataframe\">\n",
       "  <thead>\n",
       "    <tr style=\"text-align: right;\">\n",
       "      <th></th>\n",
       "      <th></th>\n",
       "      <th>title</th>\n",
       "      <th>text</th>\n",
       "      <th>date</th>\n",
       "      <th>text length</th>\n",
       "      <th>title length</th>\n",
       "    </tr>\n",
       "    <tr>\n",
       "      <th>label</th>\n",
       "      <th>subject</th>\n",
       "      <th></th>\n",
       "      <th></th>\n",
       "      <th></th>\n",
       "      <th></th>\n",
       "      <th></th>\n",
       "    </tr>\n",
       "  </thead>\n",
       "  <tbody>\n",
       "    <tr>\n",
       "      <th rowspan=\"6\" valign=\"top\">Fake</th>\n",
       "      <th>Government News</th>\n",
       "      <td>1570</td>\n",
       "      <td>1570</td>\n",
       "      <td>1570</td>\n",
       "      <td>1570</td>\n",
       "      <td>1570</td>\n",
       "    </tr>\n",
       "    <tr>\n",
       "      <th>Middle-east</th>\n",
       "      <td>778</td>\n",
       "      <td>778</td>\n",
       "      <td>778</td>\n",
       "      <td>778</td>\n",
       "      <td>778</td>\n",
       "    </tr>\n",
       "    <tr>\n",
       "      <th>News</th>\n",
       "      <td>9050</td>\n",
       "      <td>9050</td>\n",
       "      <td>9050</td>\n",
       "      <td>9050</td>\n",
       "      <td>9050</td>\n",
       "    </tr>\n",
       "    <tr>\n",
       "      <th>US_News</th>\n",
       "      <td>783</td>\n",
       "      <td>783</td>\n",
       "      <td>783</td>\n",
       "      <td>783</td>\n",
       "      <td>783</td>\n",
       "    </tr>\n",
       "    <tr>\n",
       "      <th>left-news</th>\n",
       "      <td>4459</td>\n",
       "      <td>4459</td>\n",
       "      <td>4459</td>\n",
       "      <td>4459</td>\n",
       "      <td>4459</td>\n",
       "    </tr>\n",
       "    <tr>\n",
       "      <th>politics</th>\n",
       "      <td>6841</td>\n",
       "      <td>6841</td>\n",
       "      <td>6841</td>\n",
       "      <td>6841</td>\n",
       "      <td>6841</td>\n",
       "    </tr>\n",
       "    <tr>\n",
       "      <th rowspan=\"2\" valign=\"top\">True</th>\n",
       "      <th>politicsNews</th>\n",
       "      <td>11272</td>\n",
       "      <td>11272</td>\n",
       "      <td>11272</td>\n",
       "      <td>11272</td>\n",
       "      <td>11272</td>\n",
       "    </tr>\n",
       "    <tr>\n",
       "      <th>worldnews</th>\n",
       "      <td>10145</td>\n",
       "      <td>10145</td>\n",
       "      <td>10145</td>\n",
       "      <td>10145</td>\n",
       "      <td>10145</td>\n",
       "    </tr>\n",
       "  </tbody>\n",
       "</table>\n",
       "</div>"
      ],
      "text/plain": [
       "                       title   text   date  text length  title length\n",
       "label subject                                                        \n",
       "Fake  Government News   1570   1570   1570         1570          1570\n",
       "      Middle-east        778    778    778          778           778\n",
       "      News              9050   9050   9050         9050          9050\n",
       "      US_News            783    783    783          783           783\n",
       "      left-news         4459   4459   4459         4459          4459\n",
       "      politics          6841   6841   6841         6841          6841\n",
       "True  politicsNews     11272  11272  11272        11272         11272\n",
       "      worldnews        10145  10145  10145        10145         10145"
      ]
     },
     "execution_count": 15,
     "metadata": {},
     "output_type": "execute_result"
    }
   ],
   "source": [
    "#Group the data based on label and subject\n",
    "df.groupby(['label','subject']).count()"
   ]
  },
  {
   "cell_type": "code",
   "execution_count": 16,
   "id": "008a1695",
   "metadata": {},
   "outputs": [
    {
     "data": {
      "text/plain": [
       "<AxesSubplot:xlabel='subject', ylabel='count'>"
      ]
     },
     "execution_count": 16,
     "metadata": {},
     "output_type": "execute_result"
    },
    {
     "data": {
      "image/png": "[encoded data removed]",
      "text/plain": [
       "<Figure size 1080x288 with 1 Axes>"
      ]
     },
     "metadata": {
      "needs_background": "light"
     },
     "output_type": "display_data"
    }
   ],
   "source": [
    "#Create a visual representation of the group by above\n",
    "plt.figure(figsize=(15,4))\n",
    "sns.countplot(data=df,x='subject')"
   ]
  },
  {
   "cell_type": "code",
   "execution_count": 17,
   "id": "383da930",
   "metadata": {},
   "outputs": [
    {
     "data": {
      "text/html": [
       "<div>\n",
       "<style scoped>\n",
       "    .dataframe tbody tr th:only-of-type {\n",
       "        vertical-align: middle;\n",
       "    }\n",
       "\n",
       "    .dataframe tbody tr th {\n",
       "        vertical-align: top;\n",
       "    }\n",
       "\n",
       "    .dataframe thead tr th {\n",
       "        text-align: left;\n",
       "    }\n",
       "\n",
       "    .dataframe thead tr:last-of-type th {\n",
       "        text-align: right;\n",
       "    }\n",
       "</style>\n",
       "<table border=\"1\" class=\"dataframe\">\n",
       "  <thead>\n",
       "    <tr>\n",
       "      <th></th>\n",
       "      <th colspan=\"8\" halign=\"left\">text length</th>\n",
       "      <th colspan=\"8\" halign=\"left\">title length</th>\n",
       "    </tr>\n",
       "    <tr>\n",
       "      <th></th>\n",
       "      <th>count</th>\n",
       "      <th>mean</th>\n",
       "      <th>std</th>\n",
       "      <th>min</th>\n",
       "      <th>25%</th>\n",
       "      <th>50%</th>\n",
       "      <th>75%</th>\n",
       "      <th>max</th>\n",
       "      <th>count</th>\n",
       "      <th>mean</th>\n",
       "      <th>std</th>\n",
       "      <th>min</th>\n",
       "      <th>25%</th>\n",
       "      <th>50%</th>\n",
       "      <th>75%</th>\n",
       "      <th>max</th>\n",
       "    </tr>\n",
       "    <tr>\n",
       "      <th>label</th>\n",
       "      <th></th>\n",
       "      <th></th>\n",
       "      <th></th>\n",
       "      <th></th>\n",
       "      <th></th>\n",
       "      <th></th>\n",
       "      <th></th>\n",
       "      <th></th>\n",
       "      <th></th>\n",
       "      <th></th>\n",
       "      <th></th>\n",
       "      <th></th>\n",
       "      <th></th>\n",
       "      <th></th>\n",
       "      <th></th>\n",
       "      <th></th>\n",
       "    </tr>\n",
       "  </thead>\n",
       "  <tbody>\n",
       "    <tr>\n",
       "      <th>Fake</th>\n",
       "      <td>23481.0</td>\n",
       "      <td>2547.396235</td>\n",
       "      <td>2532.884399</td>\n",
       "      <td>1.0</td>\n",
       "      <td>1433.0</td>\n",
       "      <td>2166.0</td>\n",
       "      <td>3032.0</td>\n",
       "      <td>51794.0</td>\n",
       "      <td>23481.0</td>\n",
       "      <td>94.198032</td>\n",
       "      <td>27.184433</td>\n",
       "      <td>8.0</td>\n",
       "      <td>77.0</td>\n",
       "      <td>90.0</td>\n",
       "      <td>105.0</td>\n",
       "      <td>286.0</td>\n",
       "    </tr>\n",
       "    <tr>\n",
       "      <th>True</th>\n",
       "      <td>21417.0</td>\n",
       "      <td>2383.278517</td>\n",
       "      <td>1684.835730</td>\n",
       "      <td>1.0</td>\n",
       "      <td>914.0</td>\n",
       "      <td>2222.0</td>\n",
       "      <td>3237.0</td>\n",
       "      <td>29781.0</td>\n",
       "      <td>21417.0</td>\n",
       "      <td>64.667881</td>\n",
       "      <td>9.168999</td>\n",
       "      <td>26.0</td>\n",
       "      <td>59.0</td>\n",
       "      <td>64.0</td>\n",
       "      <td>70.0</td>\n",
       "      <td>133.0</td>\n",
       "    </tr>\n",
       "  </tbody>\n",
       "</table>\n",
       "</div>"
      ],
      "text/plain": [
       "      text length                                                         \\\n",
       "            count         mean          std  min     25%     50%     75%   \n",
       "label                                                                      \n",
       "Fake      23481.0  2547.396235  2532.884399  1.0  1433.0  2166.0  3032.0   \n",
       "True      21417.0  2383.278517  1684.835730  1.0   914.0  2222.0  3237.0   \n",
       "\n",
       "               title length                                                 \\\n",
       "           max        count       mean        std   min   25%   50%    75%   \n",
       "label                                                                        \n",
       "Fake   51794.0      23481.0  94.198032  27.184433   8.0  77.0  90.0  105.0   \n",
       "True   29781.0      21417.0  64.667881   9.168999  26.0  59.0  64.0   70.0   \n",
       "\n",
       "              \n",
       "         max  \n",
       "label         \n",
       "Fake   286.0  \n",
       "True   133.0  "
      ]
     },
     "execution_count": 17,
     "metadata": {},
     "output_type": "execute_result"
    }
   ],
   "source": [
    "#Group the data based on label\n",
    "df.groupby('label').describe()"
   ]
  },
  {
   "cell_type": "markdown",
   "id": "9655de0a",
   "metadata": {},
   "source": [
    "The dataset seems to have similar number of fake and true articles"
   ]
  },
  {
   "cell_type": "code",
   "execution_count": 18,
   "id": "6c083078",
   "metadata": {},
   "outputs": [
    {
     "data": {
      "text/plain": [
       "array([<AxesSubplot:title={'center':'Fake'}>,\n",
       "       <AxesSubplot:title={'center':'True'}>], dtype=object)"
      ]
     },
     "execution_count": 18,
     "metadata": {},
     "output_type": "execute_result"
    },
    {
     "data": {
      "image/png": "[encoded data removed]",
      "text/plain": [
       "<Figure size 1080x288 with 2 Axes>"
      ]
     },
     "metadata": {},
     "output_type": "display_data"
    }
   ],
   "source": [
    "#2 histograms of text length based of the label True or Fake\n",
    "sns.set_style(\"darkgrid\")\n",
    "df.hist(column='text length',by='label',bins=60,figsize=(15,4))"
   ]
  },
  {
   "cell_type": "code",
   "execution_count": 19,
   "id": "404d26d0",
   "metadata": {},
   "outputs": [
    {
     "data": {
      "text/plain": [
       "<seaborn.axisgrid.FacetGrid at 0x273f0361b50>"
      ]
     },
     "execution_count": 19,
     "metadata": {},
     "output_type": "execute_result"
    },
    {
     "data": {
      "text/plain": [
       "<Figure size 1080x288 with 0 Axes>"
      ]
     },
     "metadata": {},
     "output_type": "display_data"
    },
    {
     "data": {
      "image/png": "[encoded data removed]",
      "text/plain": [
       "<Figure size 418.25x360 with 1 Axes>"
      ]
     },
     "metadata": {},
     "output_type": "display_data"
    }
   ],
   "source": [
    "#Plot the 2 histograms on the same plot to compare them\n",
    "plt.figure(figsize=(15,4))\n",
    "sns.displot(data=df,x='text length',bins=60,hue='label')"
   ]
  },
  {
   "cell_type": "markdown",
   "id": "912367de",
   "metadata": {},
   "source": [
    "The distribution of text lentgh between fake and true articles in pretty similar."
   ]
  },
  {
   "cell_type": "code",
   "execution_count": 20,
   "id": "480f2702",
   "metadata": {},
   "outputs": [
    {
     "data": {
      "text/plain": [
       "array([<AxesSubplot:title={'center':'Fake'}>,\n",
       "       <AxesSubplot:title={'center':'True'}>], dtype=object)"
      ]
     },
     "execution_count": 20,
     "metadata": {},
     "output_type": "execute_result"
    },
    {
     "data": {
      "image/png": "[encoded data removed]",
      "text/plain": [
       "<Figure size 1080x288 with 2 Axes>"
      ]
     },
     "metadata": {},
     "output_type": "display_data"
    }
   ],
   "source": [
    "#2 histograms of title length based of the label True or Fake\n",
    "sns.set_style(\"darkgrid\")\n",
    "df.hist(column='title length',by='label',bins=60,figsize=(15,4))"
   ]
  },
  {
   "cell_type": "code",
   "execution_count": 21,
   "id": "486ac5ab",
   "metadata": {},
   "outputs": [
    {
     "data": {
      "text/plain": [
       "<seaborn.axisgrid.FacetGrid at 0x273f03617f0>"
      ]
     },
     "execution_count": 21,
     "metadata": {},
     "output_type": "execute_result"
    },
    {
     "data": {
      "text/plain": [
       "<Figure size 1080x288 with 0 Axes>"
      ]
     },
     "metadata": {},
     "output_type": "display_data"
    },
    {
     "data": {
      "image/png": "[encoded data removed]",
      "text/plain": [
       "<Figure size 418.25x360 with 1 Axes>"
      ]
     },
     "metadata": {},
     "output_type": "display_data"
    }
   ],
   "source": [
    "#Plot the 2 histograms on the same plot to compare them\n",
    "plt.figure(figsize=(15,4))\n",
    "sns.displot(data=df,x='title length',bins=60,hue='label')"
   ]
  },
  {
   "cell_type": "markdown",
   "id": "f608c738",
   "metadata": {},
   "source": [
    "Fake news articles tend to have longer titles,most of them varying between 70-130 characters, while real news have a title length close to 50-70 characters."
   ]
  },
  {
   "cell_type": "code",
   "execution_count": 22,
   "id": "6daff388",
   "metadata": {},
   "outputs": [
    {
     "data": {
      "text/plain": [
       "<seaborn.axisgrid.JointGrid at 0x273f82af700>"
      ]
     },
     "execution_count": 22,
     "metadata": {},
     "output_type": "execute_result"
    },
    {
     "data": {
      "image/png": "[encoded data removed]",
      "text/plain": [
       "<Figure size 432x432 with 3 Axes>"
      ]
     },
     "metadata": {},
     "output_type": "display_data"
    }
   ],
   "source": [
    "#Joint plot between text length and title length\n",
    "sns.jointplot(data=df,x='text length',y='title length',hue='label')"
   ]
  },
  {
   "cell_type": "markdown",
   "id": "6f67e602",
   "metadata": {},
   "source": [
    "**Analyze the articles based on the date they were published**"
   ]
  },
  {
   "cell_type": "code",
   "execution_count": 23,
   "id": "bf313f38",
   "metadata": {},
   "outputs": [
    {
     "data": {
      "text/plain": [
       "0    December 31, 2017 \n",
       "1    December 29, 2017 \n",
       "2    December 31, 2017 \n",
       "3    December 30, 2017 \n",
       "4    December 29, 2017 \n",
       "5    December 29, 2017 \n",
       "6    December 29, 2017 \n",
       "7    December 29, 2017 \n",
       "8    December 29, 2017 \n",
       "9    December 28, 2017 \n",
       "Name: date, dtype: object"
      ]
     },
     "execution_count": 23,
     "metadata": {},
     "output_type": "execute_result"
    }
   ],
   "source": [
    "#Check how the date format by printing the first 10 dates in the df\n",
    "df['date'][0:10]"
   ]
  },
  {
   "cell_type": "code",
   "execution_count": 24,
   "id": "e1172789",
   "metadata": {},
   "outputs": [],
   "source": [
    "#Converting object type to datetime\n",
    "#df['date'] = pd.to_datetime(df['date'], infer_datetime_format=True)\n",
    "#Seems there are some problems with the format of some of the date text. Search the df for the rows that don't mach the date format\n"
   ]
  },
  {
   "cell_type": "code",
   "execution_count": 25,
   "id": "60527465",
   "metadata": {},
   "outputs": [],
   "source": [
    "df['real date']=df['date'].apply(len)"
   ]
  },
  {
   "cell_type": "code",
   "execution_count": 26,
   "id": "7fde8abd",
   "metadata": {},
   "outputs": [
    {
     "data": {
      "text/html": [
       "<div>\n",
       "<style scoped>\n",
       "    .dataframe tbody tr th:only-of-type {\n",
       "        vertical-align: middle;\n",
       "    }\n",
       "\n",
       "    .dataframe tbody tr th {\n",
       "        vertical-align: top;\n",
       "    }\n",
       "\n",
       "    .dataframe thead th {\n",
       "        text-align: right;\n",
       "    }\n",
       "</style>\n",
       "<table border=\"1\" class=\"dataframe\">\n",
       "  <thead>\n",
       "    <tr style=\"text-align: right;\">\n",
       "      <th></th>\n",
       "      <th>title</th>\n",
       "      <th>text</th>\n",
       "      <th>subject</th>\n",
       "      <th>date</th>\n",
       "      <th>label</th>\n",
       "      <th>text length</th>\n",
       "      <th>title length</th>\n",
       "      <th>real date</th>\n",
       "    </tr>\n",
       "  </thead>\n",
       "  <tbody>\n",
       "    <tr>\n",
       "      <th>30775</th>\n",
       "      <td>https://100percentfedup.com/served-roy-moore-v...</td>\n",
       "      <td>https://100percentfedup.com/served-roy-moore-v...</td>\n",
       "      <td>politics</td>\n",
       "      <td>https://100percentfedup.com/served-roy-moore-v...</td>\n",
       "      <td>Fake</td>\n",
       "      <td>145</td>\n",
       "      <td>145</td>\n",
       "      <td>145</td>\n",
       "    </tr>\n",
       "    <tr>\n",
       "      <th>36924</th>\n",
       "      <td>https://100percentfedup.com/video-hillary-aske...</td>\n",
       "      <td>https://100percentfedup.com/video-hillary-aske...</td>\n",
       "      <td>politics</td>\n",
       "      <td>https://100percentfedup.com/video-hillary-aske...</td>\n",
       "      <td>Fake</td>\n",
       "      <td>88</td>\n",
       "      <td>88</td>\n",
       "      <td>88</td>\n",
       "    </tr>\n",
       "    <tr>\n",
       "      <th>36925</th>\n",
       "      <td>https://100percentfedup.com/12-yr-old-black-co...</td>\n",
       "      <td>https://100percentfedup.com/12-yr-old-black-co...</td>\n",
       "      <td>politics</td>\n",
       "      <td>https://100percentfedup.com/12-yr-old-black-co...</td>\n",
       "      <td>Fake</td>\n",
       "      <td>149</td>\n",
       "      <td>149</td>\n",
       "      <td>149</td>\n",
       "    </tr>\n",
       "    <tr>\n",
       "      <th>37256</th>\n",
       "      <td>https://fedup.wpengine.com/wp-content/uploads/...</td>\n",
       "      <td>https://fedup.wpengine.com/wp-content/uploads/...</td>\n",
       "      <td>politics</td>\n",
       "      <td>https://fedup.wpengine.com/wp-content/uploads/...</td>\n",
       "      <td>Fake</td>\n",
       "      <td>74</td>\n",
       "      <td>74</td>\n",
       "      <td>74</td>\n",
       "    </tr>\n",
       "    <tr>\n",
       "      <th>37257</th>\n",
       "      <td>https://fedup.wpengine.com/wp-content/uploads/...</td>\n",
       "      <td>https://fedup.wpengine.com/wp-content/uploads/...</td>\n",
       "      <td>politics</td>\n",
       "      <td>https://fedup.wpengine.com/wp-content/uploads/...</td>\n",
       "      <td>Fake</td>\n",
       "      <td>66</td>\n",
       "      <td>66</td>\n",
       "      <td>66</td>\n",
       "    </tr>\n",
       "    <tr>\n",
       "      <th>38849</th>\n",
       "      <td>https://fedup.wpengine.com/wp-content/uploads/...</td>\n",
       "      <td>https://fedup.wpengine.com/wp-content/uploads/...</td>\n",
       "      <td>Government News</td>\n",
       "      <td>https://fedup.wpengine.com/wp-content/uploads/...</td>\n",
       "      <td>Fake</td>\n",
       "      <td>74</td>\n",
       "      <td>74</td>\n",
       "      <td>74</td>\n",
       "    </tr>\n",
       "    <tr>\n",
       "      <th>38850</th>\n",
       "      <td>https://fedup.wpengine.com/wp-content/uploads/...</td>\n",
       "      <td>https://fedup.wpengine.com/wp-content/uploads/...</td>\n",
       "      <td>Government News</td>\n",
       "      <td>https://fedup.wpengine.com/wp-content/uploads/...</td>\n",
       "      <td>Fake</td>\n",
       "      <td>66</td>\n",
       "      <td>66</td>\n",
       "      <td>66</td>\n",
       "    </tr>\n",
       "    <tr>\n",
       "      <th>40350</th>\n",
       "      <td>Homepage</td>\n",
       "      <td>[vc_row][vc_column width= 1/1 ][td_block_trend...</td>\n",
       "      <td>left-news</td>\n",
       "      <td>MSNBC HOST Rudely Assumes Steel Worker Would N...</td>\n",
       "      <td>Fake</td>\n",
       "      <td>578</td>\n",
       "      <td>8</td>\n",
       "      <td>120</td>\n",
       "    </tr>\n",
       "    <tr>\n",
       "      <th>43286</th>\n",
       "      <td>https://fedup.wpengine.com/wp-content/uploads/...</td>\n",
       "      <td>https://fedup.wpengine.com/wp-content/uploads/...</td>\n",
       "      <td>left-news</td>\n",
       "      <td>https://fedup.wpengine.com/wp-content/uploads/...</td>\n",
       "      <td>Fake</td>\n",
       "      <td>74</td>\n",
       "      <td>74</td>\n",
       "      <td>74</td>\n",
       "    </tr>\n",
       "    <tr>\n",
       "      <th>43287</th>\n",
       "      <td>https://fedup.wpengine.com/wp-content/uploads/...</td>\n",
       "      <td>https://fedup.wpengine.com/wp-content/uploads/...</td>\n",
       "      <td>left-news</td>\n",
       "      <td>https://fedup.wpengine.com/wp-content/uploads/...</td>\n",
       "      <td>Fake</td>\n",
       "      <td>66</td>\n",
       "      <td>66</td>\n",
       "      <td>66</td>\n",
       "    </tr>\n",
       "  </tbody>\n",
       "</table>\n",
       "</div>"
      ],
      "text/plain": [
       "                                                   title  \\\n",
       "30775  https://100percentfedup.com/served-roy-moore-v...   \n",
       "36924  https://100percentfedup.com/video-hillary-aske...   \n",
       "36925  https://100percentfedup.com/12-yr-old-black-co...   \n",
       "37256  https://fedup.wpengine.com/wp-content/uploads/...   \n",
       "37257  https://fedup.wpengine.com/wp-content/uploads/...   \n",
       "38849  https://fedup.wpengine.com/wp-content/uploads/...   \n",
       "38850  https://fedup.wpengine.com/wp-content/uploads/...   \n",
       "40350                                           Homepage   \n",
       "43286  https://fedup.wpengine.com/wp-content/uploads/...   \n",
       "43287  https://fedup.wpengine.com/wp-content/uploads/...   \n",
       "\n",
       "                                                    text          subject  \\\n",
       "30775  https://100percentfedup.com/served-roy-moore-v...         politics   \n",
       "36924  https://100percentfedup.com/video-hillary-aske...         politics   \n",
       "36925  https://100percentfedup.com/12-yr-old-black-co...         politics   \n",
       "37256  https://fedup.wpengine.com/wp-content/uploads/...         politics   \n",
       "37257  https://fedup.wpengine.com/wp-content/uploads/...         politics   \n",
       "38849  https://fedup.wpengine.com/wp-content/uploads/...  Government News   \n",
       "38850  https://fedup.wpengine.com/wp-content/uploads/...  Government News   \n",
       "40350  [vc_row][vc_column width= 1/1 ][td_block_trend...        left-news   \n",
       "43286  https://fedup.wpengine.com/wp-content/uploads/...        left-news   \n",
       "43287  https://fedup.wpengine.com/wp-content/uploads/...        left-news   \n",
       "\n",
       "                                                    date label  text length  \\\n",
       "30775  https://100percentfedup.com/served-roy-moore-v...  Fake          145   \n",
       "36924  https://100percentfedup.com/video-hillary-aske...  Fake           88   \n",
       "36925  https://100percentfedup.com/12-yr-old-black-co...  Fake          149   \n",
       "37256  https://fedup.wpengine.com/wp-content/uploads/...  Fake           74   \n",
       "37257  https://fedup.wpengine.com/wp-content/uploads/...  Fake           66   \n",
       "38849  https://fedup.wpengine.com/wp-content/uploads/...  Fake           74   \n",
       "38850  https://fedup.wpengine.com/wp-content/uploads/...  Fake           66   \n",
       "40350  MSNBC HOST Rudely Assumes Steel Worker Would N...  Fake          578   \n",
       "43286  https://fedup.wpengine.com/wp-content/uploads/...  Fake           74   \n",
       "43287  https://fedup.wpengine.com/wp-content/uploads/...  Fake           66   \n",
       "\n",
       "       title length  real date  \n",
       "30775           145        145  \n",
       "36924            88         88  \n",
       "36925           149        149  \n",
       "37256            74         74  \n",
       "37257            66         66  \n",
       "38849            74         74  \n",
       "38850            66         66  \n",
       "40350             8        120  \n",
       "43286            74         74  \n",
       "43287            66         66  "
      ]
     },
     "execution_count": 26,
     "metadata": {},
     "output_type": "execute_result"
    }
   ],
   "source": [
    "df[df['real date']>20]"
   ]
  },
  {
   "cell_type": "code",
   "execution_count": 27,
   "id": "d47b5598",
   "metadata": {},
   "outputs": [],
   "source": [
    "#Since this is a small fraction of the dateset I will drop the rows\n",
    "df.drop(df[df['real date'] >20].index, inplace=True)"
   ]
  },
  {
   "cell_type": "code",
   "execution_count": 28,
   "id": "09ba9381",
   "metadata": {},
   "outputs": [],
   "source": [
    "df['date'] = pd.to_datetime(df['date'], infer_datetime_format=True)"
   ]
  },
  {
   "cell_type": "code",
   "execution_count": 29,
   "id": "80c1b364",
   "metadata": {},
   "outputs": [
    {
     "name": "stdout",
     "output_type": "stream",
     "text": [
      "<class 'pandas.core.frame.DataFrame'>\n",
      "Int64Index: 44888 entries, 0 to 44897\n",
      "Data columns (total 8 columns):\n",
      " #   Column        Non-Null Count  Dtype         \n",
      "---  ------        --------------  -----         \n",
      " 0   title         44888 non-null  object        \n",
      " 1   text          44888 non-null  object        \n",
      " 2   subject       44888 non-null  object        \n",
      " 3   date          44888 non-null  datetime64[ns]\n",
      " 4   label         44888 non-null  object        \n",
      " 5   text length   44888 non-null  int64         \n",
      " 6   title length  44888 non-null  int64         \n",
      " 7   real date     44888 non-null  int64         \n",
      "dtypes: datetime64[ns](1), int64(3), object(4)\n",
      "memory usage: 3.1+ MB\n"
     ]
    }
   ],
   "source": [
    "df.info()"
   ]
  },
  {
   "cell_type": "code",
   "execution_count": 30,
   "id": "9bbf2080",
   "metadata": {},
   "outputs": [],
   "source": [
    "df['year-month'] = pd.to_datetime(df['date']).dt.to_period('M')"
   ]
  },
  {
   "cell_type": "code",
   "execution_count": 31,
   "id": "c2308568",
   "metadata": {},
   "outputs": [
    {
     "data": {
      "text/html": [
       "<div>\n",
       "<style scoped>\n",
       "    .dataframe tbody tr th:only-of-type {\n",
       "        vertical-align: middle;\n",
       "    }\n",
       "\n",
       "    .dataframe tbody tr th {\n",
       "        vertical-align: top;\n",
       "    }\n",
       "\n",
       "    .dataframe thead th {\n",
       "        text-align: right;\n",
       "    }\n",
       "</style>\n",
       "<table border=\"1\" class=\"dataframe\">\n",
       "  <thead>\n",
       "    <tr style=\"text-align: right;\">\n",
       "      <th></th>\n",
       "      <th>title</th>\n",
       "      <th>text</th>\n",
       "      <th>subject</th>\n",
       "      <th>date</th>\n",
       "      <th>label</th>\n",
       "      <th>text length</th>\n",
       "      <th>title length</th>\n",
       "      <th>real date</th>\n",
       "      <th>year-month</th>\n",
       "    </tr>\n",
       "  </thead>\n",
       "  <tbody>\n",
       "    <tr>\n",
       "      <th>0</th>\n",
       "      <td>As U.S. budget fight looms, Republicans flip t...</td>\n",
       "      <td>WASHINGTON (Reuters) - The head of a conservat...</td>\n",
       "      <td>politicsNews</td>\n",
       "      <td>2017-12-31</td>\n",
       "      <td>True</td>\n",
       "      <td>4659</td>\n",
       "      <td>64</td>\n",
       "      <td>18</td>\n",
       "      <td>2017-12</td>\n",
       "    </tr>\n",
       "    <tr>\n",
       "      <th>1</th>\n",
       "      <td>U.S. military to accept transgender recruits o...</td>\n",
       "      <td>WASHINGTON (Reuters) - Transgender people will...</td>\n",
       "      <td>politicsNews</td>\n",
       "      <td>2017-12-29</td>\n",
       "      <td>True</td>\n",
       "      <td>4077</td>\n",
       "      <td>64</td>\n",
       "      <td>18</td>\n",
       "      <td>2017-12</td>\n",
       "    </tr>\n",
       "    <tr>\n",
       "      <th>2</th>\n",
       "      <td>Senior U.S. Republican senator: 'Let Mr. Muell...</td>\n",
       "      <td>WASHINGTON (Reuters) - The special counsel inv...</td>\n",
       "      <td>politicsNews</td>\n",
       "      <td>2017-12-31</td>\n",
       "      <td>True</td>\n",
       "      <td>2789</td>\n",
       "      <td>60</td>\n",
       "      <td>18</td>\n",
       "      <td>2017-12</td>\n",
       "    </tr>\n",
       "  </tbody>\n",
       "</table>\n",
       "</div>"
      ],
      "text/plain": [
       "                                               title  \\\n",
       "0  As U.S. budget fight looms, Republicans flip t...   \n",
       "1  U.S. military to accept transgender recruits o...   \n",
       "2  Senior U.S. Republican senator: 'Let Mr. Muell...   \n",
       "\n",
       "                                                text       subject       date  \\\n",
       "0  WASHINGTON (Reuters) - The head of a conservat...  politicsNews 2017-12-31   \n",
       "1  WASHINGTON (Reuters) - Transgender people will...  politicsNews 2017-12-29   \n",
       "2  WASHINGTON (Reuters) - The special counsel inv...  politicsNews 2017-12-31   \n",
       "\n",
       "  label  text length  title length  real date year-month  \n",
       "0  True         4659            64         18    2017-12  \n",
       "1  True         4077            64         18    2017-12  \n",
       "2  True         2789            60         18    2017-12  "
      ]
     },
     "execution_count": 31,
     "metadata": {},
     "output_type": "execute_result"
    }
   ],
   "source": [
    "df.head(3)"
   ]
  },
  {
   "cell_type": "code",
   "execution_count": 32,
   "id": "acbe0990",
   "metadata": {},
   "outputs": [
    {
     "name": "stdout",
     "output_type": "stream",
     "text": [
      "<class 'pandas.core.frame.DataFrame'>\n",
      "Int64Index: 44888 entries, 0 to 44897\n",
      "Data columns (total 9 columns):\n",
      " #   Column        Non-Null Count  Dtype         \n",
      "---  ------        --------------  -----         \n",
      " 0   title         44888 non-null  object        \n",
      " 1   text          44888 non-null  object        \n",
      " 2   subject       44888 non-null  object        \n",
      " 3   date          44888 non-null  datetime64[ns]\n",
      " 4   label         44888 non-null  object        \n",
      " 5   text length   44888 non-null  int64         \n",
      " 6   title length  44888 non-null  int64         \n",
      " 7   real date     44888 non-null  int64         \n",
      " 8   year-month    44888 non-null  period[M]     \n",
      "dtypes: datetime64[ns](1), int64(3), object(4), period[M](1)\n",
      "memory usage: 3.4+ MB\n"
     ]
    }
   ],
   "source": [
    "df.info()"
   ]
  },
  {
   "cell_type": "code",
   "execution_count": 33,
   "id": "85eb12ff",
   "metadata": {},
   "outputs": [
    {
     "data": {
      "text/plain": [
       "<AxesSubplot:xlabel='year-month', ylabel='count'>"
      ]
     },
     "execution_count": 33,
     "metadata": {},
     "output_type": "execute_result"
    },
    {
     "data": {
      "image/png": "[encoded data removed]",
      "text/plain": [
       "<Figure size 2160x288 with 1 Axes>"
      ]
     },
     "metadata": {},
     "output_type": "display_data"
    }
   ],
   "source": [
    "plt.figure(figsize=(30,4))\n",
    "sns.countplot(data=df,x='year-month',hue='label')"
   ]
  },
  {
   "cell_type": "markdown",
   "id": "53d9921d",
   "metadata": {},
   "source": []
  },
  {
   "cell_type": "code",
   "execution_count": 34,
   "id": "6af439b6",
   "metadata": {},
   "outputs": [],
   "source": [
    "#Drop column real date - is not needed anymore\n",
    "df.drop(['real date'], axis=1, inplace=True)"
   ]
  },
  {
   "cell_type": "markdown",
   "id": "3cd21883",
   "metadata": {},
   "source": [
    "## NLP Classification Task"
   ]
  },
  {
   "cell_type": "code",
   "execution_count": 35,
   "id": "0664139e",
   "metadata": {},
   "outputs": [
    {
     "data": {
      "text/html": [
       "<div>\n",
       "<style scoped>\n",
       "    .dataframe tbody tr th:only-of-type {\n",
       "        vertical-align: middle;\n",
       "    }\n",
       "\n",
       "    .dataframe tbody tr th {\n",
       "        vertical-align: top;\n",
       "    }\n",
       "\n",
       "    .dataframe thead th {\n",
       "        text-align: right;\n",
       "    }\n",
       "</style>\n",
       "<table border=\"1\" class=\"dataframe\">\n",
       "  <thead>\n",
       "    <tr style=\"text-align: right;\">\n",
       "      <th></th>\n",
       "      <th>title</th>\n",
       "      <th>text</th>\n",
       "      <th>subject</th>\n",
       "      <th>date</th>\n",
       "      <th>label</th>\n",
       "      <th>text length</th>\n",
       "      <th>title length</th>\n",
       "      <th>year-month</th>\n",
       "    </tr>\n",
       "  </thead>\n",
       "  <tbody>\n",
       "    <tr>\n",
       "      <th>0</th>\n",
       "      <td>As U.S. budget fight looms, Republicans flip t...</td>\n",
       "      <td>WASHINGTON (Reuters) - The head of a conservat...</td>\n",
       "      <td>politicsNews</td>\n",
       "      <td>2017-12-31</td>\n",
       "      <td>True</td>\n",
       "      <td>4659</td>\n",
       "      <td>64</td>\n",
       "      <td>2017-12</td>\n",
       "    </tr>\n",
       "    <tr>\n",
       "      <th>1</th>\n",
       "      <td>U.S. military to accept transgender recruits o...</td>\n",
       "      <td>WASHINGTON (Reuters) - Transgender people will...</td>\n",
       "      <td>politicsNews</td>\n",
       "      <td>2017-12-29</td>\n",
       "      <td>True</td>\n",
       "      <td>4077</td>\n",
       "      <td>64</td>\n",
       "      <td>2017-12</td>\n",
       "    </tr>\n",
       "    <tr>\n",
       "      <th>2</th>\n",
       "      <td>Senior U.S. Republican senator: 'Let Mr. Muell...</td>\n",
       "      <td>WASHINGTON (Reuters) - The special counsel inv...</td>\n",
       "      <td>politicsNews</td>\n",
       "      <td>2017-12-31</td>\n",
       "      <td>True</td>\n",
       "      <td>2789</td>\n",
       "      <td>60</td>\n",
       "      <td>2017-12</td>\n",
       "    </tr>\n",
       "  </tbody>\n",
       "</table>\n",
       "</div>"
      ],
      "text/plain": [
       "                                               title  \\\n",
       "0  As U.S. budget fight looms, Republicans flip t...   \n",
       "1  U.S. military to accept transgender recruits o...   \n",
       "2  Senior U.S. Republican senator: 'Let Mr. Muell...   \n",
       "\n",
       "                                                text       subject       date  \\\n",
       "0  WASHINGTON (Reuters) - The head of a conservat...  politicsNews 2017-12-31   \n",
       "1  WASHINGTON (Reuters) - Transgender people will...  politicsNews 2017-12-29   \n",
       "2  WASHINGTON (Reuters) - The special counsel inv...  politicsNews 2017-12-31   \n",
       "\n",
       "  label  text length  title length year-month  \n",
       "0  True         4659            64    2017-12  \n",
       "1  True         4077            64    2017-12  \n",
       "2  True         2789            60    2017-12  "
      ]
     },
     "execution_count": 35,
     "metadata": {},
     "output_type": "execute_result"
    }
   ],
   "source": [
    "df.head(3)"
   ]
  },
  {
   "cell_type": "markdown",
   "id": "31acf422",
   "metadata": {},
   "source": [
    "**Clasify the news in fake or real, dataset based on the text corpus**"
   ]
  },
  {
   "cell_type": "code",
   "execution_count": 36,
   "id": "0dae7028",
   "metadata": {},
   "outputs": [],
   "source": [
    "#Create 2 objects X and y - the feature and the target\n",
    "X=df['text']\n",
    "y=df['label']"
   ]
  },
  {
   "cell_type": "code",
   "execution_count": 37,
   "id": "3966d1d0",
   "metadata": {},
   "outputs": [
    {
     "name": "stdout",
     "output_type": "stream",
     "text": [
      "0        WASHINGTON (Reuters) - The head of a conservat...\n",
      "1        WASHINGTON (Reuters) - Transgender people will...\n",
      "2        WASHINGTON (Reuters) - The special counsel inv...\n",
      "3        WASHINGTON (Reuters) - Trump campaign adviser ...\n",
      "4        SEATTLE/WASHINGTON (Reuters) - President Donal...\n",
      "                               ...                        \n",
      "44893    21st Century Wire says As 21WIRE reported earl...\n",
      "44894    21st Century Wire says It s a familiar theme. ...\n",
      "44895    Patrick Henningsen  21st Century WireRemember ...\n",
      "44896    21st Century Wire says Al Jazeera America will...\n",
      "44897    21st Century Wire says As 21WIRE predicted in ...\n",
      "Name: text, Length: 44888, dtype: object\n"
     ]
    }
   ],
   "source": [
    "print(X)"
   ]
  },
  {
   "cell_type": "code",
   "execution_count": 38,
   "id": "87e49b6b",
   "metadata": {},
   "outputs": [],
   "source": [
    "#Create a CountVectorizer object\n",
    "\n",
    "cv = CountVectorizer()"
   ]
  },
  {
   "cell_type": "code",
   "execution_count": 39,
   "id": "e12a3951",
   "metadata": {},
   "outputs": [],
   "source": [
    "X = cv.fit_transform(X)"
   ]
  },
  {
   "cell_type": "code",
   "execution_count": 40,
   "id": "1ac663d1",
   "metadata": {},
   "outputs": [
    {
     "name": "stdout",
     "output_type": "stream",
     "text": [
      "  (0, 116825)\t2\n",
      "  (0, 92493)\t1\n",
      "  (0, 107786)\t44\n",
      "  (0, 50409)\t1\n",
      "  (0, 79125)\t13\n",
      "  (0, 28116)\t3\n",
      "  (0, 91933)\t6\n",
      "  (0, 40795)\t1\n",
      "  (0, 54627)\t19\n",
      "  (0, 27977)\t2\n",
      "  (0, 117973)\t4\n",
      "  (0, 116014)\t3\n",
      "  (0, 108260)\t3\n",
      "  (0, 73136)\t1\n",
      "  (0, 43355)\t15\n",
      "  (0, 52935)\t1\n",
      "  (0, 40242)\t1\n",
      "  (0, 75375)\t2\n",
      "  (0, 31752)\t3\n",
      "  (0, 109155)\t30\n",
      "  (0, 82539)\t3\n",
      "  (0, 106785)\t8\n",
      "  (0, 30477)\t3\n",
      "  (0, 22358)\t1\n",
      "  (0, 51604)\t1\n",
      "  :\t:\n",
      "  (44887, 39942)\t1\n",
      "  (44887, 18832)\t2\n",
      "  (44887, 75028)\t1\n",
      "  (44887, 5767)\t1\n",
      "  (44887, 83361)\t4\n",
      "  (44887, 63500)\t1\n",
      "  (44887, 55492)\t1\n",
      "  (44887, 35987)\t1\n",
      "  (44887, 71843)\t1\n",
      "  (44887, 35983)\t1\n",
      "  (44887, 26828)\t1\n",
      "  (44887, 104029)\t1\n",
      "  (44887, 54183)\t1\n",
      "  (44887, 39871)\t1\n",
      "  (44887, 18808)\t1\n",
      "  (44887, 41260)\t2\n",
      "  (44887, 49591)\t1\n",
      "  (44887, 93283)\t1\n",
      "  (44887, 75973)\t3\n",
      "  (44887, 114150)\t2\n",
      "  (44887, 41638)\t1\n",
      "  (44887, 4307)\t1\n",
      "  (44887, 21707)\t1\n",
      "  (44887, 104307)\t1\n",
      "  (44887, 86033)\t1\n"
     ]
    }
   ],
   "source": [
    "print(X)"
   ]
  },
  {
   "cell_type": "code",
   "execution_count": 41,
   "id": "54439f07",
   "metadata": {},
   "outputs": [],
   "source": [
    "#Split the data\n",
    "\n",
    "X_train, X_test, y_train, y_test = train_test_split(X, y, test_size=0.3, random_state=42)"
   ]
  },
  {
   "cell_type": "code",
   "execution_count": 42,
   "id": "48300128",
   "metadata": {},
   "outputs": [
    {
     "data": {
      "text/plain": [
       "MultinomialNB()"
      ]
     },
     "execution_count": 42,
     "metadata": {},
     "output_type": "execute_result"
    }
   ],
   "source": [
    "#Create an instance of the estimator and fit it to the dateset\n",
    "nb = MultinomialNB()\n",
    "nb.fit(X_train,y_train)"
   ]
  },
  {
   "cell_type": "code",
   "execution_count": 43,
   "id": "7d120589",
   "metadata": {},
   "outputs": [],
   "source": [
    "#Predictions and evaluations\n",
    "\n",
    "predictions = nb.predict(X_test)"
   ]
  },
  {
   "cell_type": "code",
   "execution_count": 44,
   "id": "dde584ba",
   "metadata": {},
   "outputs": [
    {
     "name": "stdout",
     "output_type": "stream",
     "text": [
      "Confusion Matrix\n",
      "[[6665  325]\n",
      " [ 299 6178]]\n",
      "\n",
      "\n",
      "classification Report\n",
      "              precision    recall  f1-score   support\n",
      "\n",
      "        Fake       0.96      0.95      0.96      6990\n",
      "        True       0.95      0.95      0.95      6477\n",
      "\n",
      "    accuracy                           0.95     13467\n",
      "   macro avg       0.95      0.95      0.95     13467\n",
      "weighted avg       0.95      0.95      0.95     13467\n",
      "\n",
      "\n",
      "\n",
      "Accuracy Score\n",
      "accuracy 0.9536645132546224\n"
     ]
    }
   ],
   "source": [
    "print('Confusion Matrix')\n",
    "print(confusion_matrix(y_test,predictions))\n",
    "print('\\n')\n",
    "print('classification Report')\n",
    "print(classification_report(y_test,predictions))\n",
    "print('\\n')\n",
    "print('Accuracy Score')\n",
    "print('accuracy %s' % accuracy_score(predictions, y_test))"
   ]
  },
  {
   "cell_type": "markdown",
   "id": "c833f02d",
   "metadata": {},
   "source": [
    "**Clasify the news in fake in real, dataset based on the title corpus**"
   ]
  },
  {
   "cell_type": "code",
   "execution_count": 45,
   "id": "ee2d6174",
   "metadata": {},
   "outputs": [],
   "source": [
    "#Create 2 objects X and y - the feature and the target\n",
    "X=df['title']\n",
    "y=df['label']"
   ]
  },
  {
   "cell_type": "code",
   "execution_count": 46,
   "id": "29282f5a",
   "metadata": {},
   "outputs": [
    {
     "name": "stdout",
     "output_type": "stream",
     "text": [
      "0        As U.S. budget fight looms, Republicans flip t...\n",
      "1        U.S. military to accept transgender recruits o...\n",
      "2        Senior U.S. Republican senator: 'Let Mr. Muell...\n",
      "3        FBI Russia probe helped by Australian diplomat...\n",
      "4        Trump wants Postal Service to charge 'much mor...\n",
      "                               ...                        \n",
      "44893    McPain: John McCain Furious That Iran Treated ...\n",
      "44894    JUSTICE? Yahoo Settles E-mail Privacy Class-ac...\n",
      "44895    Sunnistan: US and Allied ‘Safe Zone’ Plan to T...\n",
      "44896    How to Blow $700 Million: Al Jazeera America F...\n",
      "44897    10 U.S. Navy Sailors Held by Iranian Military ...\n",
      "Name: title, Length: 44888, dtype: object\n"
     ]
    }
   ],
   "source": [
    "print(X)"
   ]
  },
  {
   "cell_type": "code",
   "execution_count": 47,
   "id": "81c3e053",
   "metadata": {},
   "outputs": [],
   "source": [
    "#Create a CountVectorizer object\n",
    "\n",
    "cv = CountVectorizer()\n",
    "X = cv.fit_transform(X)"
   ]
  },
  {
   "cell_type": "code",
   "execution_count": 48,
   "id": "c9c0e4a1",
   "metadata": {},
   "outputs": [],
   "source": [
    "#Split the data\n",
    "\n",
    "X_train, X_test, y_train, y_test = train_test_split(X, y, test_size=0.3, random_state=42)"
   ]
  },
  {
   "cell_type": "code",
   "execution_count": 49,
   "id": "c5ca41df",
   "metadata": {},
   "outputs": [
    {
     "data": {
      "text/plain": [
       "MultinomialNB()"
      ]
     },
     "execution_count": 49,
     "metadata": {},
     "output_type": "execute_result"
    }
   ],
   "source": [
    "#Create an instance of the estimator and fit it to the dateset\n",
    "nb = MultinomialNB()\n",
    "nb.fit(X_train,y_train)"
   ]
  },
  {
   "cell_type": "code",
   "execution_count": 50,
   "id": "95f6fee9",
   "metadata": {},
   "outputs": [],
   "source": [
    "#Predictions and evaluations\n",
    "\n",
    "predictions = nb.predict(X_test)"
   ]
  },
  {
   "cell_type": "code",
   "execution_count": 51,
   "id": "bbd09332",
   "metadata": {},
   "outputs": [
    {
     "name": "stdout",
     "output_type": "stream",
     "text": [
      "Confusion Matrix\n",
      "[[6731  259]\n",
      " [ 430 6047]]\n",
      "\n",
      "\n",
      "classification Report\n",
      "              precision    recall  f1-score   support\n",
      "\n",
      "        Fake       0.94      0.96      0.95      6990\n",
      "        True       0.96      0.93      0.95      6477\n",
      "\n",
      "    accuracy                           0.95     13467\n",
      "   macro avg       0.95      0.95      0.95     13467\n",
      "weighted avg       0.95      0.95      0.95     13467\n",
      "\n",
      "\n",
      "\n",
      "Accuracy Score\n",
      "accuracy 0.9488379000519789\n"
     ]
    }
   ],
   "source": [
    "print('Confusion Matrix')\n",
    "print(confusion_matrix(y_test,predictions))\n",
    "print('\\n')\n",
    "print('classification Report')\n",
    "print(classification_report(y_test,predictions))\n",
    "print('\\n')\n",
    "print('Accuracy Score')\n",
    "print('accuracy %s' % accuracy_score(predictions, y_test))"
   ]
  },
  {
   "cell_type": "markdown",
   "id": "e78a4f5c",
   "metadata": {},
   "source": [
    "Seems that using the text column offers a better accuracy then ussing the title column with this method of classification"
   ]
  },
  {
   "cell_type": "markdown",
   "id": "d0f0e25c",
   "metadata": {},
   "source": [
    "**NLP Using Text Processing - Using Linear Support Vector Machine on title column**"
   ]
  },
  {
   "cell_type": "code",
   "execution_count": 52,
   "id": "188c4f74",
   "metadata": {},
   "outputs": [],
   "source": [
    "#Create a pipeline with the following steps:CountVectorizer(), TfidfTransformer(),SGDClassifier()**\n",
    "\n",
    "pipeline = Pipeline([\n",
    "    ('bow', CountVectorizer()),  # strings to token integer counts\n",
    "    ('tfidf', TfidfTransformer()),  # integer counts to weighted TF-IDF scores\n",
    "    ('classifier', SGDClassifier()),  # train on TF-IDF vectors w/ Support Vector Machine classifier\n",
    "])"
   ]
  },
  {
   "cell_type": "code",
   "execution_count": 53,
   "id": "12921ac4",
   "metadata": {},
   "outputs": [],
   "source": [
    "#Create 2 objects X and y - the feature and the target - with title\n",
    "X=df['title']\n",
    "y=df['label']"
   ]
  },
  {
   "cell_type": "code",
   "execution_count": 54,
   "id": "bf7d4fdf",
   "metadata": {},
   "outputs": [],
   "source": [
    "#Split the data\n",
    "\n",
    "X_train, X_test, y_train, y_test = train_test_split(X, y, test_size=0.3, random_state=42)"
   ]
  },
  {
   "cell_type": "code",
   "execution_count": 55,
   "id": "bc4d0059",
   "metadata": {},
   "outputs": [
    {
     "data": {
      "text/plain": [
       "Pipeline(steps=[('bow', CountVectorizer()), ('tfidf', TfidfTransformer()),\n",
       "                ('classifier', SGDClassifier())])"
      ]
     },
     "execution_count": 55,
     "metadata": {},
     "output_type": "execute_result"
    }
   ],
   "source": [
    "pipeline.fit(X_train,y_train)"
   ]
  },
  {
   "cell_type": "code",
   "execution_count": 56,
   "id": "eb03669c",
   "metadata": {},
   "outputs": [],
   "source": [
    "#Predictions and evaluation\n",
    "\n",
    "predictions = pipeline.predict(X_test)"
   ]
  },
  {
   "cell_type": "code",
   "execution_count": 58,
   "id": "883b1020",
   "metadata": {},
   "outputs": [
    {
     "name": "stdout",
     "output_type": "stream",
     "text": [
      "Confusion Matrix\n",
      "[[6625  365]\n",
      " [ 247 6230]]\n",
      "\n",
      "\n",
      "classification Report\n",
      "              precision    recall  f1-score   support\n",
      "\n",
      "        Fake       0.96      0.95      0.96      6990\n",
      "        True       0.94      0.96      0.95      6477\n",
      "\n",
      "    accuracy                           0.95     13467\n",
      "   macro avg       0.95      0.95      0.95     13467\n",
      "weighted avg       0.95      0.95      0.95     13467\n",
      "\n",
      "\n",
      "\n",
      "Accuracy Score\n",
      "accuracy 0.9545555803074182\n"
     ]
    }
   ],
   "source": [
    "print('Confusion Matrix')\n",
    "print(confusion_matrix(y_test,predictions))\n",
    "print('\\n')\n",
    "print('classification Report')\n",
    "print(classification_report(y_test,predictions))\n",
    "print('\\n')\n",
    "print('Accuracy Score')\n",
    "print('accuracy %s' % accuracy_score(predictions, y_test))"
   ]
  },
  {
   "cell_type": "code",
   "execution_count": 59,
   "id": "b8ffd753",
   "metadata": {},
   "outputs": [
    {
     "name": "stdout",
     "output_type": "stream",
     "text": [
      "Training accuracy =  Accuracy score is 0.9703383087743865\n",
      "Testing accuracy =  Accuracy score is 0.9545555803074182\n"
     ]
    }
   ],
   "source": [
    "# Function for Cross validation\n",
    "def model_ev(actual,predict):\n",
    "    \n",
    "    accu = accuracy_score(actual,predict)\n",
    "    print(f'Accuracy score is {accu}')\n",
    "\n",
    "# Checking Bias and variance\n",
    "y_train_pred = pipeline.predict(X_train)\n",
    "print(f'Training accuracy = ', end = ' ')\n",
    "model_ev(y_train,y_train_pred)\n",
    "y_test_pred = pipeline.predict(X_test)\n",
    "print(f'Testing accuracy = ', end = ' ')\n",
    "model_ev(y_test,y_test_pred)"
   ]
  },
  {
   "cell_type": "markdown",
   "id": "7740a5e2",
   "metadata": {},
   "source": [
    "**Grid Search**"
   ]
  },
  {
   "cell_type": "markdown",
   "id": "a01a6dfa",
   "metadata": {},
   "source": [
    "Tune parameters using GridSearchCV."
   ]
  },
  {
   "cell_type": "code",
   "execution_count": 60,
   "id": "df05fba6",
   "metadata": {},
   "outputs": [
    {
     "data": {
      "text/plain": [
       "{'bow__ngram_range': (1, 2),\n",
       " 'classifier__alpha': 0.0001,\n",
       " 'classifier__max_iter': 100,\n",
       " 'tfidf__use_idf': True}"
      ]
     },
     "execution_count": 60,
     "metadata": {},
     "output_type": "execute_result"
    }
   ],
   "source": [
    "parameters_svm = {'bow__ngram_range': [(1, 1), (1, 2)],\n",
    "                  'tfidf__use_idf': (True, False),\n",
    "                  'classifier__max_iter': (5,50,100,500,1000), #maximum number of epochs\n",
    "                  'classifier__alpha': (1e-4, 1e-3, 1e-2, 1e-1, 1e0, 1e1, 1e2, 1e3) # learning rate\n",
    "                }\n",
    "gs_clf_svm = GridSearchCV(pipeline, parameters_svm, n_jobs=-1)\n",
    "gs_clf_svm = gs_clf_svm.fit(X_train,y_train)\n",
    "gs_clf_svm.best_score_\n",
    "gs_clf_svm.best_params_"
   ]
  },
  {
   "cell_type": "code",
   "execution_count": 62,
   "id": "1f4924ea",
   "metadata": {},
   "outputs": [
    {
     "data": {
      "text/plain": [
       "Pipeline(steps=[('bow', CountVectorizer(ngram_range=(1, 2))),\n",
       "                ('tfidf', TfidfTransformer()),\n",
       "                ('classifier', SGDClassifier(max_iter=100))])"
      ]
     },
     "execution_count": 62,
     "metadata": {},
     "output_type": "execute_result"
    }
   ],
   "source": [
    "gs_clf_svm.best_estimator_"
   ]
  },
  {
   "cell_type": "code",
   "execution_count": 63,
   "id": "6b07760a",
   "metadata": {},
   "outputs": [],
   "source": [
    "grid_predictions = gs_clf_svm.predict(X_test)"
   ]
  },
  {
   "cell_type": "code",
   "execution_count": 64,
   "id": "deeb235e",
   "metadata": {
    "scrolled": true
   },
   "outputs": [
    {
     "name": "stdout",
     "output_type": "stream",
     "text": [
      "Confusion Matrix\n",
      "[[6699  291]\n",
      " [ 308 6169]]\n",
      "\n",
      "\n",
      "classification Report\n",
      "              precision    recall  f1-score   support\n",
      "\n",
      "        Fake       0.96      0.96      0.96      6990\n",
      "        True       0.95      0.95      0.95      6477\n",
      "\n",
      "    accuracy                           0.96     13467\n",
      "   macro avg       0.96      0.96      0.96     13467\n",
      "weighted avg       0.96      0.96      0.96     13467\n",
      "\n",
      "\n",
      "\n",
      "Accuracy Score\n",
      "accuracy 0.9555209029479468\n"
     ]
    }
   ],
   "source": [
    "print('Confusion Matrix')\n",
    "print(confusion_matrix(y_test,grid_predictions))\n",
    "print('\\n')\n",
    "print('classification Report')\n",
    "print(classification_report(y_test,grid_predictions))\n",
    "print('\\n')\n",
    "print('Accuracy Score')\n",
    "print('accuracy %s' % accuracy_score(grid_predictions, y_test))"
   ]
  },
  {
   "cell_type": "code",
   "execution_count": 65,
   "id": "36ad5950",
   "metadata": {},
   "outputs": [
    {
     "name": "stdout",
     "output_type": "stream",
     "text": [
      "Training accuracy =  Accuracy score is 0.9817001368511505\n",
      "Testing accuracy =  Accuracy score is 0.9555209029479468\n"
     ]
    }
   ],
   "source": [
    "# Checking Bias and variance\n",
    "y_train_pred = gs_clf_svm.predict(X_train)\n",
    "print(f'Training accuracy = ', end = ' ')\n",
    "model_ev(y_train,y_train_pred)\n",
    "y_test_pred = gs_clf_svm.predict(X_test)\n",
    "print(f'Testing accuracy = ', end = ' ')\n",
    "model_ev(y_test,y_test_pred)"
   ]
  },
  {
   "cell_type": "markdown",
   "id": "caf1b62b",
   "metadata": {},
   "source": [
    "The accuracy of the model has improved a little, but nothing significant."
   ]
  },
  {
   "cell_type": "markdown",
   "id": "d588209a",
   "metadata": {},
   "source": [
    "**NLTK**"
   ]
  },
  {
   "cell_type": "markdown",
   "id": "4a058c6d",
   "metadata": {},
   "source": [
    "Check if NLTK can improve the model, using the title column."
   ]
  },
  {
   "cell_type": "markdown",
   "id": "a7f1fae9",
   "metadata": {},
   "source": [
    "1. Removing stop words:"
   ]
  },
  {
   "cell_type": "code",
   "execution_count": 66,
   "id": "42be75ba",
   "metadata": {},
   "outputs": [],
   "source": [
    "#Create a new pipeline with stop words \n",
    "\n",
    "stop_words_pipeline = Pipeline([\n",
    "    ('bow', CountVectorizer(ngram_range=(1, 2),stop_words='english')),\n",
    "    ('tfidf', TfidfTransformer()),\n",
    "    ('classifier', SGDClassifier(max_iter=1000,alpha=0.0001)),\n",
    "])"
   ]
  },
  {
   "cell_type": "code",
   "execution_count": 67,
   "id": "df530f80",
   "metadata": {},
   "outputs": [],
   "source": [
    "X=df['title']\n",
    "y=df['label']"
   ]
  },
  {
   "cell_type": "code",
   "execution_count": 68,
   "id": "33bf7f94",
   "metadata": {},
   "outputs": [],
   "source": [
    "X_train, X_test, y_train, y_test = train_test_split(X, y, test_size=0.3, random_state=42)"
   ]
  },
  {
   "cell_type": "code",
   "execution_count": 69,
   "id": "ec247445",
   "metadata": {},
   "outputs": [
    {
     "data": {
      "text/plain": [
       "Pipeline(steps=[('bow',\n",
       "                 CountVectorizer(ngram_range=(1, 2), stop_words='english')),\n",
       "                ('tfidf', TfidfTransformer()),\n",
       "                ('classifier', SGDClassifier())])"
      ]
     },
     "execution_count": 69,
     "metadata": {},
     "output_type": "execute_result"
    }
   ],
   "source": [
    "stop_words_pipeline.fit(X_train,y_train)"
   ]
  },
  {
   "cell_type": "code",
   "execution_count": 70,
   "id": "9b00e898",
   "metadata": {},
   "outputs": [],
   "source": [
    "stop_words_predictions = stop_words_pipeline.predict(X_test)"
   ]
  },
  {
   "cell_type": "code",
   "execution_count": 71,
   "id": "824924d9",
   "metadata": {},
   "outputs": [
    {
     "name": "stdout",
     "output_type": "stream",
     "text": [
      "Confusion Matrix\n",
      "[[6583  407]\n",
      " [ 335 6142]]\n",
      "\n",
      "\n",
      "classification Report\n",
      "              precision    recall  f1-score   support\n",
      "\n",
      "        Fake       0.95      0.94      0.95      6990\n",
      "        True       0.94      0.95      0.94      6477\n",
      "\n",
      "    accuracy                           0.94     13467\n",
      "   macro avg       0.94      0.95      0.94     13467\n",
      "weighted avg       0.94      0.94      0.94     13467\n",
      "\n",
      "\n",
      "\n",
      "Accuracy Score\n",
      "accuracy 0.9449023539021312\n"
     ]
    }
   ],
   "source": [
    "print('Confusion Matrix')\n",
    "print(confusion_matrix(y_test,stop_words_predictions))\n",
    "print('\\n')\n",
    "print('classification Report')\n",
    "print(classification_report(y_test,stop_words_predictions))\n",
    "print('\\n')\n",
    "print('Accuracy Score')\n",
    "print('accuracy %s' % accuracy_score(stop_words_predictions, y_test))"
   ]
  },
  {
   "cell_type": "markdown",
   "id": "725992eb",
   "metadata": {},
   "source": []
  },
  {
   "cell_type": "markdown",
   "id": "370ab509",
   "metadata": {},
   "source": [
    "2. Stemming:"
   ]
  },
  {
   "cell_type": "code",
   "execution_count": 72,
   "id": "57e3e345",
   "metadata": {},
   "outputs": [],
   "source": [
    "stemmer = SnowballStemmer(\"english\", ignore_stopwords=True)\n",
    "\n",
    "class StemmedCountVectorizer(CountVectorizer):\n",
    "    def build_analyzer(self):\n",
    "        analyzer = super(StemmedCountVectorizer, self).build_analyzer()\n",
    "        return lambda doc: ([stemmer.stem(w) for w in analyzer(doc)])\n",
    "    \n",
    "stemmed_count_vect = StemmedCountVectorizer(stop_words='english')\n",
    "\n",
    "stemming_pipeline = Pipeline([('bow', stemmed_count_vect),\n",
    "                             ('tfidf', TfidfTransformer()),\n",
    "                             ('classifier', SGDClassifier(max_iter=1000,alpha=0.0001)),\n",
    "                            \n",
    "                            ])\n",
    "stemming_pipeline = stemming_pipeline.fit(X_train,y_train)\n",
    "stemming_predictions = stemming_pipeline.predict(X_test)\n",
    "\n"
   ]
  },
  {
   "cell_type": "code",
   "execution_count": 73,
   "id": "eec287bd",
   "metadata": {},
   "outputs": [
    {
     "name": "stdout",
     "output_type": "stream",
     "text": [
      "Confusion Matrix\n",
      "[[6513  477]\n",
      " [ 345 6132]]\n",
      "\n",
      "\n",
      "classification Report\n",
      "              precision    recall  f1-score   support\n",
      "\n",
      "        Fake       0.95      0.93      0.94      6990\n",
      "        True       0.93      0.95      0.94      6477\n",
      "\n",
      "    accuracy                           0.94     13467\n",
      "   macro avg       0.94      0.94      0.94     13467\n",
      "weighted avg       0.94      0.94      0.94     13467\n",
      "\n",
      "\n",
      "\n",
      "Accuracy Score\n",
      "accuracy 0.938961906883493\n"
     ]
    }
   ],
   "source": [
    "print('Confusion Matrix')\n",
    "print(confusion_matrix(y_test,stemming_predictions))\n",
    "print('\\n')\n",
    "print('classification Report')\n",
    "print(classification_report(y_test,stemming_predictions))\n",
    "print('\\n')\n",
    "print('Accuracy Score')\n",
    "print('accuracy %s' % accuracy_score(stemming_predictions, y_test))"
   ]
  },
  {
   "cell_type": "markdown",
   "id": "66537bed",
   "metadata": {},
   "source": [
    "Stop words and stemming did not help rise the accuracy of the model. The best options for a model that uses the title column is SGDClassifier+GridSearchCV."
   ]
  },
  {
   "cell_type": "markdown",
   "id": "36fbe22d",
   "metadata": {},
   "source": [
    "**NLP Using Text Processing - Using Linear Support Vector Machine on text column**"
   ]
  },
  {
   "cell_type": "code",
   "execution_count": 74,
   "id": "a98c97ff",
   "metadata": {},
   "outputs": [],
   "source": [
    "#Use the same pipeline as on title column\n",
    "\n",
    "pipeline = Pipeline([\n",
    "    ('bow', CountVectorizer()),  # strings to token integer counts\n",
    "    ('tfidf', TfidfTransformer()),  # integer counts to weighted TF-IDF scores\n",
    "    ('classifier', SGDClassifier()),  # train on TF-IDF vectors w/ Support Vector Machine classifier\n",
    "])"
   ]
  },
  {
   "cell_type": "code",
   "execution_count": 75,
   "id": "0c8941e6",
   "metadata": {},
   "outputs": [],
   "source": [
    "#Create 2 objects X and y - the feature and the target - with text column\n",
    "X=df['text']\n",
    "y=df['label']"
   ]
  },
  {
   "cell_type": "code",
   "execution_count": 76,
   "id": "a1de5a81",
   "metadata": {},
   "outputs": [],
   "source": [
    "#Split the data\n",
    "\n",
    "X_train, X_test, y_train, y_test = train_test_split(X, y, test_size=0.3, random_state=42)"
   ]
  },
  {
   "cell_type": "code",
   "execution_count": 77,
   "id": "eea0729b",
   "metadata": {},
   "outputs": [
    {
     "data": {
      "text/plain": [
       "Pipeline(steps=[('bow', CountVectorizer()), ('tfidf', TfidfTransformer()),\n",
       "                ('classifier', SGDClassifier())])"
      ]
     },
     "execution_count": 77,
     "metadata": {},
     "output_type": "execute_result"
    }
   ],
   "source": [
    "pipeline.fit(X_train,y_train)"
   ]
  },
  {
   "cell_type": "code",
   "execution_count": 78,
   "id": "6f0d497a",
   "metadata": {},
   "outputs": [
    {
     "name": "stdout",
     "output_type": "stream",
     "text": [
      "Confusion Matrix\n",
      "[[6933   57]\n",
      " [  40 6437]]\n",
      "\n",
      "\n",
      "classification Report\n",
      "              precision    recall  f1-score   support\n",
      "\n",
      "        Fake       0.99      0.99      0.99      6990\n",
      "        True       0.99      0.99      0.99      6477\n",
      "\n",
      "    accuracy                           0.99     13467\n",
      "   macro avg       0.99      0.99      0.99     13467\n",
      "weighted avg       0.99      0.99      0.99     13467\n",
      "\n",
      "\n",
      "\n",
      "Accuracy Score\n",
      "accuracy 0.9927972079899012\n"
     ]
    }
   ],
   "source": [
    "#Predictions and evaluation\n",
    "\n",
    "predictions = pipeline.predict(X_test)\n",
    "\n",
    "print('Confusion Matrix')\n",
    "print(confusion_matrix(y_test,predictions))\n",
    "print('\\n')\n",
    "print('classification Report')\n",
    "print(classification_report(y_test,predictions))\n",
    "print('\\n')\n",
    "print('Accuracy Score')\n",
    "print('accuracy %s' % accuracy_score(predictions, y_test))"
   ]
  },
  {
   "cell_type": "markdown",
   "id": "719ef4da",
   "metadata": {},
   "source": [
    "The model using Linear SVM on text column has an accuracy of 99.3%. Don't see how much it can be inproved."
   ]
  },
  {
   "cell_type": "code",
   "execution_count": 79,
   "id": "3752801e",
   "metadata": {},
   "outputs": [
    {
     "name": "stdout",
     "output_type": "stream",
     "text": [
      "Training accuracy =  Accuracy score is 0.9946532573756405\n",
      "Testing accuracy =  Accuracy score is 0.9927972079899012\n"
     ]
    }
   ],
   "source": [
    "# Checking Bias and variance\n",
    "y_train_pred = pipeline.predict(X_train)\n",
    "print(f'Training accuracy = ', end = ' ')\n",
    "model_ev(y_train,y_train_pred)\n",
    "y_test_pred = pipeline.predict(X_test)\n",
    "print(f'Testing accuracy = ', end = ' ')\n",
    "model_ev(y_test,y_test_pred)"
   ]
  },
  {
   "cell_type": "code",
   "execution_count": null,
   "id": "af092f79",
   "metadata": {},
   "outputs": [],
   "source": []
  },
  {
   "cell_type": "code",
   "execution_count": null,
   "id": "13dca3ee",
   "metadata": {},
   "outputs": [],
   "source": []
  }
 ],
 "metadata": {
  "kernelspec": {
   "display_name": "Python 3 (ipykernel)",
   "language": "python",
   "name": "python3"
  },
  "language_info": {
   "codemirror_mode": {
    "name": "ipython",
    "version": 3
   },
   "file_extension": ".py",
   "mimetype": "text/x-python",
   "name": "python",
   "nbconvert_exporter": "python",
   "pygments_lexer": "ipython3",
   "version": "3.9.7"
  }
 },
 "nbformat": 4,
 "nbformat_minor": 5
}
